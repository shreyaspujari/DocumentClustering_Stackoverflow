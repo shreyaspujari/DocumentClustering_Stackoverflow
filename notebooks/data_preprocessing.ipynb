{
 "cells": [
  {
   "cell_type": "code",
   "execution_count": 1,
   "id": "bf9607d1-7929-4ccb-969e-c3de196fe3df",
   "metadata": {},
   "outputs": [],
   "source": [
    "import pandas as pd"
   ]
  },
  {
   "cell_type": "markdown",
   "id": "77441322-c214-436d-ad4a-44c8909bd5af",
   "metadata": {},
   "source": [
    "### This code is for preprocessing the dataset and creating a smaller dataset.\n",
    "My dataset has over 2 million records and it takes a lot of processing time so I have taken a sample of that data for this project.\n",
    "I have chosen the first 70,000 records for my analysis as the system cannot process the original dataset"
   ]
  },
  {
   "cell_type": "code",
   "execution_count": 4,
   "id": "1fac3554-0db1-412e-b4f9-6957ddd7cd9f",
   "metadata": {},
   "outputs": [],
   "source": [
    "# Load the datasets.\n",
    "questions = pd.read_csv(\"../data/Questions.csv\", encoding=\"ISO-8859-1\", nrows=70000)\n",
    "answers = pd.read_csv(\"../data/Answers.csv\", encoding=\"ISO-8859-1\", nrows=70000)\n",
    "tags = pd.read_csv(\"../data/Tags.csv\", encoding=\"ISO-8859-1\", nrows=70000)"
   ]
  },
  {
   "cell_type": "markdown",
   "id": "7cae01c2-e224-4291-80b9-6af03d9bb47a",
   "metadata": {},
   "source": [
    "Displaying the structure of the data to understand the relationships"
   ]
  },
  {
   "cell_type": "code",
   "execution_count": 7,
   "id": "c851b6f2-45c4-444a-8ce3-3db97d8d3750",
   "metadata": {},
   "outputs": [
    {
     "name": "stdout",
     "output_type": "stream",
     "text": [
      "    Id  OwnerUserId          CreationDate            ClosedDate  Score  \\\n",
      "0   80         26.0  2008-08-01T13:57:07Z                   NaN     26   \n",
      "1   90         58.0  2008-08-01T14:41:24Z  2012-12-26T03:45:49Z    144   \n",
      "2  120         83.0  2008-08-01T15:50:08Z                   NaN     21   \n",
      "3  180    2089740.0  2008-08-01T18:42:19Z                   NaN     53   \n",
      "4  260         91.0  2008-08-01T23:22:08Z                   NaN     49   \n",
      "\n",
      "                                               Title  \\\n",
      "0  SQLStatement.execute() - multiple queries in o...   \n",
      "1  Good branching and merging tutorials for Torto...   \n",
      "2                                  ASP.NET Site Maps   \n",
      "3                 Function for creating color wheels   \n",
      "4  Adding scripting functionality to .NET applica...   \n",
      "\n",
      "                                                Body  \n",
      "0  <p>I've written a database generation script i...  \n",
      "1  <p>Are there any really good tutorials explain...  \n",
      "2  <p>Has anyone got experience creating <strong>...  \n",
      "3  <p>This is something I've pseudo-solved many t...  \n",
      "4  <p>I have a little game written in C#. It uses...  \n",
      "    Id  OwnerUserId          CreationDate  ParentId  Score  \\\n",
      "0   92         61.0  2008-08-01T14:45:37Z        90     13   \n",
      "1  124         26.0  2008-08-01T16:09:47Z        80     12   \n",
      "2  199         50.0  2008-08-01T19:36:46Z       180      1   \n",
      "3  269         91.0  2008-08-01T23:49:57Z       260      4   \n",
      "4  307         49.0  2008-08-02T01:49:46Z       260     28   \n",
      "\n",
      "                                                Body  \n",
      "0  <p><a href=\"http://svnbook.red-bean.com/\">Vers...  \n",
      "1  <p>I wound up using this. It is a kind of a ha...  \n",
      "2  <p>I've read somewhere the human eye can't dis...  \n",
      "3  <p>Yes, I thought about that, but I soon figur...  \n",
      "4  <p><a href=\"http://www.codeproject.com/Article...  \n",
      "   Id             Tag\n",
      "0  80            flex\n",
      "1  80  actionscript-3\n",
      "2  80             air\n",
      "3  90             svn\n",
      "4  90     tortoisesvn\n"
     ]
    },
    {
     "data": {
      "text/plain": [
       "Index(['Id', 'OwnerUserId', 'CreationDate', 'ParentId', 'Score', 'Body'], dtype='object')"
      ]
     },
     "execution_count": 7,
     "metadata": {},
     "output_type": "execute_result"
    }
   ],
   "source": [
    "print(questions.head())\n",
    "print(answers.head())\n",
    "print(tags.head())\n",
    "\n",
    "answers.columns"
   ]
  },
  {
   "cell_type": "code",
   "execution_count": 16,
   "id": "957398e8-f27d-470a-911d-30c63541829f",
   "metadata": {},
   "outputs": [],
   "source": [
    "# Merge questions with tags\n",
    "questions_with_tags = questions.merge(\n",
    "    tags, left_on='Id', right_on='Id', how='inner'\n",
    ")\n",
    "\n",
    "# Merge questions with answers\n",
    "questions_with_answers = questions_with_tags.merge(\n",
    "    answers, left_on='Id', right_on='ParentId', how='inner',\n",
    "    suffixes=('_question', '_answer')\n",
    ")\n",
    "\n",
    "# Sort answers by ParentId (question ID) and Score in descending order\n",
    "sorted_answers = questions_with_answers.sort_values(\n",
    "    by=['ParentId', 'Score_answer'], ascending=[True, False]\n",
    ")\n",
    "\n",
    "# Group by ParentId (question ID) and select only the top 2 answers\n",
    "top_2_answers = sorted_answers.groupby('ParentId').head(2).reset_index(drop=True)\n",
    "\n",
    "# Clean and preprocess the dataset\n",
    "# Retain only the necessary columns and rename for clarity\n",
    "final_dataset = top_2_answers[[\n",
    "    'Id_question', 'Title', 'Body_question', 'Body_answer', 'Score_answer', 'Tag'\n",
    "]].rename(columns={\n",
    "    'Id_question': 'Question_ID',\n",
    "    'Title': 'Question_Title',\n",
    "    'Body_question': 'Question_Body',\n",
    "    'Body_answer': 'Answer_Body',\n",
    "    'Score_answer': 'Answer_Score'\n",
    "})\n",
    "\n",
    "# Remove duplicates\n",
    "final_dataset = final_dataset.drop_duplicates(subset=['Question_ID', 'Answer_Body', 'Tag'])\n",
    "\n",
    "# Standardize text formatting\n",
    "final_dataset['Question_Body'] = final_dataset['Question_Body'].str.lower().str.strip()\n",
    "final_dataset['Answer_Body'] = final_dataset['Answer_Body'].str.lower().str.strip()\n",
    "final_dataset['Question_Title'] = final_dataset['Question_Title'].str.lower().str.strip()\n",
    "final_dataset['Tag'] = final_dataset['Tag'].str.lower().str.strip()\n"
   ]
  },
  {
   "cell_type": "code",
   "execution_count": 18,
   "id": "89fa5bc4-a193-440a-908d-241521524643",
   "metadata": {},
   "outputs": [],
   "source": [
    "# Save the dataset to a csv file\n",
    "final_dataset.to_csv(\"../data/final_dataset.csv\")"
   ]
  },
  {
   "cell_type": "code",
   "execution_count": 20,
   "id": "d6773499-a302-46e8-9f91-1687488c747f",
   "metadata": {},
   "outputs": [
    {
     "data": {
      "text/plain": [
       "(42244, 6)"
      ]
     },
     "execution_count": 20,
     "metadata": {},
     "output_type": "execute_result"
    }
   ],
   "source": [
    "final_dataset.shape"
   ]
  },
  {
   "cell_type": "code",
   "execution_count": null,
   "id": "fee676de-2148-4a80-a1b0-285e5764592c",
   "metadata": {},
   "outputs": [],
   "source": []
  },
  {
   "cell_type": "code",
   "execution_count": null,
   "id": "e1832f19-7399-42f4-9df7-c97799f9ce86",
   "metadata": {},
   "outputs": [],
   "source": []
  },
  {
   "cell_type": "code",
   "execution_count": null,
   "id": "84a55b1e-16e1-4ab5-aee4-146b46278cf3",
   "metadata": {},
   "outputs": [],
   "source": []
  },
  {
   "cell_type": "code",
   "execution_count": null,
   "id": "17f4cd7c-b7d8-4388-9249-5e95ef780dc0",
   "metadata": {},
   "outputs": [],
   "source": []
  },
  {
   "cell_type": "code",
   "execution_count": null,
   "id": "99894b04-b2e2-4325-a988-629262f15255",
   "metadata": {},
   "outputs": [],
   "source": []
  }
 ],
 "metadata": {
  "kernelspec": {
   "display_name": "Python 3 (ipykernel)",
   "language": "python",
   "name": "python3"
  },
  "language_info": {
   "codemirror_mode": {
    "name": "ipython",
    "version": 3
   },
   "file_extension": ".py",
   "mimetype": "text/x-python",
   "name": "python",
   "nbconvert_exporter": "python",
   "pygments_lexer": "ipython3",
   "version": "3.12.7"
  }
 },
 "nbformat": 4,
 "nbformat_minor": 5
}
